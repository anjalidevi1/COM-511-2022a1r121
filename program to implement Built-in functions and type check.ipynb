{
 "cells": [
  {
   "cell_type": "code",
   "execution_count": 7,
   "metadata": {},
   "outputs": [
    {
     "name": "stdout",
     "output_type": "stream",
     "text": [
      "abs() Function:\n",
      "Absolute value of -12.0 : 12.0\n",
      "Absolute value of 15.67 : 15.67\n",
      "\n",
      "round() Function:\n",
      "15.67 rounded to the nearest integer: 16\n",
      "15.67 rounded to 1 decimal place: 15.7\n",
      "\n",
      "len() Function:\n",
      "Length of the string ' Hello, World! ': 13\n",
      "Length of the list [1, 2, 3, 4, 5] : 5\n",
      "\n",
      "isalnum() Function:\n",
      "Is ' Hello123 ' alphanumeric? True\n",
      "Is ' Hello 123! ' alphanumeric? False\n",
      "\n",
      "type() Function:\n",
      "The type of -12.0 is <class 'float'>\n",
      "The type of 15.67 is <class 'float'>\n",
      "The type of ' Hello, World! ' is <class 'str'>\n",
      "The type of [1, 2, 3, 4, 5] is <class 'list'>\n",
      "\n",
      "min() Function:\n",
      "The smallest number between -12.0 and 15.67 : -12.0\n",
      "The smallest number in the list [23, 45, 2, 0, -4, 5] : -4\n"
     ]
    }
   ],
   "source": [
    "# Demonstrating type checking and built-in functions in Python\n",
    "\n",
    "# Integer and float\n",
    "#num1 = -12\n",
    "#num2 = 15.67\n",
    "num1=float(input(\"Enter  number1 : \"))\n",
    "num2=float(input(\"Enter  number2 : \"))\n",
    "\n",
    "# Demonstrating abs() - returns the absolute value of a number\n",
    "print(\"abs() Function:\")\n",
    "print(\"Absolute value of\", num1, \":\", abs(num1))\n",
    "print(\"Absolute value of\", num2, \":\", abs(num2))\n",
    "print()\n",
    "\n",
    "# Demonstrating round() - rounds a float to the nearest integer or specified decimal places\n",
    "print(\"round() Function:\")\n",
    "print(num2, \"rounded to the nearest integer:\", round(num2))\n",
    "print(num2, \"rounded to 1 decimal place:\", round(num2, 1))\n",
    "print()\n",
    "\n",
    "# Demonstrating len() - returns the length of a sequence (string, list, etc.)\n",
    "# For strings\n",
    "text = \"Hello, World!\"\n",
    "print(\"len() Function:\")\n",
    "print(\"Length of the string '\",  text ,\"':\", len(text))\n",
    "\n",
    "# For lists\n",
    "numbers = [1, 2, 3, 4, 5]\n",
    "print(\"Length of the list\", numbers, \":\", len(numbers))\n",
    "print()\n",
    "\n",
    "# Demonstrating isalnum() - checks if a string consists of only alphanumeric characters (letters and digits)\n",
    "string1 = \"Hello123\"\n",
    "string2 = \"Hello 123!\"\n",
    "\n",
    "print(\"isalnum() Function:\")\n",
    "print(\"Is '\" , string1 , \"' alphanumeric?\", string1.isalnum())\n",
    "print(\"Is '\" , string2 , \"' alphanumeric?\", string2.isalnum())\n",
    "print()\n",
    "\n",
    "# Demonstrating type() - returns the type of an object\n",
    "print(\"type() Function:\")\n",
    "print(\"The type of\", num1, \"is\", type(num1))\n",
    "print(\"The type of\", num2, \"is\", type(num2))\n",
    "print(\"The type of '\" , text , \"' is\", type(text))\n",
    "print(\"The type of\", numbers, \"is\", type(numbers))\n",
    "print()\n",
    "\n",
    "\n",
    "\n",
    "# Demonstrating min() - returns the smallest item in an iterable or the smallest of given values\n",
    "print(\"min() Function:\")\n",
    "print(\"The smallest number between\", num1, \"and\", num2, \":\", min(num1, num2))\n",
    "\n",
    "# For a list of numbers\n",
    "numbers_list = [23, 45, 2, 0, -4, 5]\n",
    "print(\"The smallest number in the list\", numbers_list, \":\", min(numbers_list))\n"
   ]
  },
  {
   "cell_type": "code",
   "execution_count": 18,
   "metadata": {},
   "outputs": [
    {
     "name": "stdout",
     "output_type": "stream",
     "text": [
      "x is string\n"
     ]
    }
   ],
   "source": [
    "x=user_input\n",
    "user_input=input(\"ente the strin\")\n",
    "\n",
    "if type(x)==float:\n",
    "    print(\"x is float\")\n",
    "elif type(x)==int:\n",
    "    print(\"x is int\")\n",
    "elif type(x)==str:\n",
    "    print(\"x is string\")\n",
    "\n",
    "else:\n",
    "    print(\"x is bool\")"
   ]
  },
  {
   "cell_type": "code",
   "execution_count": null,
   "metadata": {},
   "outputs": [],
   "source": []
  }
 ],
 "metadata": {
  "kernelspec": {
   "display_name": "Python 3",
   "language": "python",
   "name": "python3"
  },
  "language_info": {
   "codemirror_mode": {
    "name": "ipython",
    "version": 3
   },
   "file_extension": ".py",
   "mimetype": "text/x-python",
   "name": "python",
   "nbconvert_exporter": "python",
   "pygments_lexer": "ipython3",
   "version": "3.12.5"
  }
 },
 "nbformat": 4,
 "nbformat_minor": 2
}
