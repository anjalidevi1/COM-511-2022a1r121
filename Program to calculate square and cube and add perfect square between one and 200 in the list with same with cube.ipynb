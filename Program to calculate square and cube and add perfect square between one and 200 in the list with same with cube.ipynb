{
 "cells": [
  {
   "cell_type": "code",
   "execution_count": null,
   "metadata": {},
   "outputs": [],
   "source": [
    "#create 2 list name them square and cube and add perfect square between one and 200 in the list with same with cube\n",
    "\n",
    "square = []\n",
    "cube = []\n",
    "\n",
    "\n",
    "for i in range(1, 200):\n",
    "   \n",
    "    square.append(i**2)\n",
    "    \n",
    "    \n",
    "    cube.append(i**3)\n",
    "\n",
    "\n",
    "print(\"Perfect Squares of  numbers:\", square)\n",
    "print(\"Perfect Cubes of  numbers:\", cube)\n"
   ]
  }
 ],
 "metadata": {
  "language_info": {
   "name": "python"
  }
 },
 "nbformat": 4,
 "nbformat_minor": 2
}
