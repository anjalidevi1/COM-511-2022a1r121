{
 "cells": [
  {
   "cell_type": "code",
   "execution_count": 1,
   "metadata": {},
   "outputs": [
    {
     "name": "stdout",
     "output_type": "stream",
     "text": [
      "{'what': 1, 'is': 2, 'sql': 1, 'and': 3, 'why': 1, 'it': 1, 'important': 1, 'in': 1, 'data': 1, 'science': 1, 'explain': 1, 'the': 1, 'differnce': 1, 'between': 1, 'database': 1, 'a': 1, 'table': 1}\n"
     ]
    }
   ],
   "source": [
    "#count the occurrence of each word\n",
    "st1=\"\"\"what is sql and why is it important in data science and explain the differnce between database and a table\"\"\"\n",
    "words = st1.lower().split()\n",
    "\n",
    "\n",
    "word_count = {}\n",
    "\n",
    "for word in words:\n",
    "    word_count[word] = word_count.get(word, 0) + 1\n",
    "\n",
    "\n",
    "print(word_count)"
   ]
  },
  {
   "cell_type": "code",
   "execution_count": null,
   "metadata": {},
   "outputs": [],
   "source": []
  }
 ],
 "metadata": {
  "kernelspec": {
   "display_name": "Python 3",
   "language": "python",
   "name": "python3"
  },
  "language_info": {
   "codemirror_mode": {
    "name": "ipython",
    "version": 3
   },
   "file_extension": ".py",
   "mimetype": "text/x-python",
   "name": "python",
   "nbconvert_exporter": "python",
   "pygments_lexer": "ipython3",
   "version": "3.12.5"
  }
 },
 "nbformat": 4,
 "nbformat_minor": 2
}
