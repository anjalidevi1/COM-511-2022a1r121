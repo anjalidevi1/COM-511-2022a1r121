{
 "cells": [
  {
   "cell_type": "code",
   "execution_count": null,
   "metadata": {},
   "outputs": [],
   "source": [
    "#print the longest name frorm the list\n",
    "l1=[\"Akansha\",\"Archit\",\"Aryan\",\"Kanka\",\"Lomash\",\"Tushar\",\"Vinit\"]\n",
    "longest_name = max(l1, key=len)\n",
    "\n",
    "\n",
    "print(\"The longest name is:\", longest_name)"
   ]
  }
 ],
 "metadata": {
  "language_info": {
   "name": "python"
  }
 },
 "nbformat": 4,
 "nbformat_minor": 2
}
