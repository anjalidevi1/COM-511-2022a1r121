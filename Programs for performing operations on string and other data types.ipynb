{
 "cells": [
  {
   "cell_type": "code",
   "execution_count": 3,
   "metadata": {},
   "outputs": [
    {
     "name": "stdout",
     "output_type": "stream",
     "text": [
      "<class 'int'>\n"
     ]
    }
   ],
   "source": [
    "h=\"95\"\n",
    "g=int(h)\n",
    "print(type(g))"
   ]
  },
  {
   "cell_type": "code",
   "execution_count": 5,
   "metadata": {},
   "outputs": [
    {
     "name": "stdout",
     "output_type": "stream",
     "text": [
      "square of 45 is6.71\n"
     ]
    }
   ],
   "source": [
    "print(\"square of {} is{}\".format(86,round(86**(1/2),2)))"
   ]
  },
  {
   "cell_type": "code",
   "execution_count": 6,
   "metadata": {},
   "outputs": [
    {
     "name": "stdout",
     "output_type": "stream",
     "text": [
      "cube of85 is 4.396829672158179\n"
     ]
    }
   ],
   "source": [
    "print(\"cube of{} is {}\".format(85,85**(1/3)))"
   ]
  },
  {
   "cell_type": "code",
   "execution_count": 7,
   "metadata": {},
   "outputs": [
    {
     "name": "stdout",
     "output_type": "stream",
     "text": [
      "1 hours and 1 min\n"
     ]
    }
   ],
   "source": [
    "print(\"{} hours and {} min\".format(15908//60,15908%60))"
   ]
  },
  {
   "cell_type": "code",
   "execution_count": 9,
   "metadata": {},
   "outputs": [
    {
     "name": "stdout",
     "output_type": "stream",
     "text": [
      "32690388 hours and 12 min\n"
     ]
    }
   ],
   "source": [
    "print(\"{} hours and {} min\".format(784569324//24,784569324%24))"
   ]
  },
  {
   "cell_type": "code",
   "execution_count": 10,
   "metadata": {},
   "outputs": [
    {
     "name": "stdout",
     "output_type": "stream",
     "text": [
      "614779 days , 614779hours and 2 min\n"
     ]
    }
   ],
   "source": [
    "print(\"{}days , {}hours and {} min\".format(14754698//24,14754698//24,14754698%24))"
   ]
  },
  {
   "cell_type": "code",
   "execution_count": 11,
   "metadata": {},
   "outputs": [
    {
     "data": {
      "text/plain": [
       "int"
      ]
     },
     "execution_count": 11,
     "metadata": {},
     "output_type": "execute_result"
    }
   ],
   "source": [
    "type(int(h))"
   ]
  },
  {
   "cell_type": "code",
   "execution_count": 12,
   "metadata": {},
   "outputs": [
    {
     "data": {
      "text/plain": [
       "95.0"
      ]
     },
     "execution_count": 12,
     "metadata": {},
     "output_type": "execute_result"
    }
   ],
   "source": [
    "float(h)"
   ]
  },
  {
   "cell_type": "code",
   "execution_count": 13,
   "metadata": {},
   "outputs": [],
   "source": [
    "a=\"Each row contains a unique village ,the block containing  \""
   ]
  },
  {
   "cell_type": "code",
   "execution_count": 14,
   "metadata": {},
   "outputs": [
    {
     "data": {
      "text/plain": [
       "'EACH ROW CONTAINS A UNIQUE VILLAGE ,THE BLOCK CONTAINING  '"
      ]
     },
     "execution_count": 14,
     "metadata": {},
     "output_type": "execute_result"
    }
   ],
   "source": [
    "a.upper()"
   ]
  },
  {
   "cell_type": "code",
   "execution_count": 15,
   "metadata": {},
   "outputs": [
    {
     "data": {
      "text/plain": [
       "'each row contains a unique village ,the block containing  '"
      ]
     },
     "execution_count": 15,
     "metadata": {},
     "output_type": "execute_result"
    }
   ],
   "source": [
    "a.lower()"
   ]
  },
  {
   "cell_type": "code",
   "execution_count": 19,
   "metadata": {},
   "outputs": [
    {
     "data": {
      "text/plain": [
       "27"
      ]
     },
     "execution_count": 19,
     "metadata": {},
     "output_type": "execute_result"
    }
   ],
   "source": [
    "a.find(\"village\")"
   ]
  },
  {
   "cell_type": "code",
   "execution_count": 20,
   "metadata": {},
   "outputs": [
    {
     "data": {
      "text/plain": [
       "['Each',\n",
       " 'row',\n",
       " 'contains',\n",
       " 'a',\n",
       " 'unique',\n",
       " 'village',\n",
       " ',the',\n",
       " 'block',\n",
       " 'containing']"
      ]
     },
     "execution_count": 20,
     "metadata": {},
     "output_type": "execute_result"
    }
   ],
   "source": [
    "a.split()"
   ]
  },
  {
   "cell_type": "code",
   "execution_count": 22,
   "metadata": {},
   "outputs": [
    {
     "name": "stdout",
     "output_type": "stream",
     "text": [
      "Each row contains a brilliant village ,the block containing  \n"
     ]
    }
   ],
   "source": [
    "new_a=a.replace(\"unique\",\"brilliant\")\n",
    "print(new_a)"
   ]
  },
  {
   "cell_type": "code",
   "execution_count": 23,
   "metadata": {},
   "outputs": [],
   "source": [
    "word_to_remove=\"the\""
   ]
  },
  {
   "cell_type": "code",
   "execution_count": 24,
   "metadata": {},
   "outputs": [],
   "source": [
    "result=a.replace(word_to_remove,\"\")"
   ]
  },
  {
   "cell_type": "code",
   "execution_count": 25,
   "metadata": {},
   "outputs": [
    {
     "name": "stdout",
     "output_type": "stream",
     "text": [
      "Each row contains a unique village , block containing  \n"
     ]
    }
   ],
   "source": [
    "print(result)"
   ]
  },
  {
   "cell_type": "code",
   "execution_count": 12,
   "metadata": {},
   "outputs": [],
   "source": [
    "r={\"ID\":[101,102,103],\n",
    "\"JOB\":[\"HR\", \"manager\",\"CA\"]}"
   ]
  },
  {
   "cell_type": "code",
   "execution_count": 13,
   "metadata": {},
   "outputs": [
    {
     "data": {
      "text/plain": [
       "dict_keys(['ID', 'JOB'])"
      ]
     },
     "execution_count": 13,
     "metadata": {},
     "output_type": "execute_result"
    }
   ],
   "source": [
    "r.keys()"
   ]
  },
  {
   "cell_type": "code",
   "execution_count": 15,
   "metadata": {},
   "outputs": [
    {
     "data": {
      "text/plain": [
       "dict_values([[101, 102, 103, 1446], ['HR', 'manager', 'CA']])"
      ]
     },
     "execution_count": 15,
     "metadata": {},
     "output_type": "execute_result"
    }
   ],
   "source": [
    "r.values()"
   ]
  },
  {
   "cell_type": "code",
   "execution_count": 16,
   "metadata": {},
   "outputs": [
    {
     "data": {
      "text/plain": [
       "[101, 102, 103, 1446]"
      ]
     },
     "execution_count": 16,
     "metadata": {},
     "output_type": "execute_result"
    }
   ],
   "source": [
    "r[\"ID\"]"
   ]
  },
  {
   "cell_type": "code",
   "execution_count": 17,
   "metadata": {},
   "outputs": [
    {
     "data": {
      "text/plain": [
       "['HR', 'manager', 'CA']"
      ]
     },
     "execution_count": 17,
     "metadata": {},
     "output_type": "execute_result"
    }
   ],
   "source": [
    "r[\"JOB\"]"
   ]
  },
  {
   "cell_type": "code",
   "execution_count": 18,
   "metadata": {},
   "outputs": [
    {
     "data": {
      "text/plain": [
       "list"
      ]
     },
     "execution_count": 18,
     "metadata": {},
     "output_type": "execute_result"
    }
   ],
   "source": [
    "type(r[\"ID\"])"
   ]
  },
  {
   "cell_type": "code",
   "execution_count": 14,
   "metadata": {},
   "outputs": [],
   "source": [
    "r[\"ID\"].append(1446)"
   ]
  },
  {
   "cell_type": "code",
   "execution_count": 19,
   "metadata": {},
   "outputs": [
    {
     "data": {
      "text/plain": [
       "{'ID': [101, 102, 103, 1446], 'JOB': ['HR', 'manager', 'CA']}"
      ]
     },
     "execution_count": 19,
     "metadata": {},
     "output_type": "execute_result"
    }
   ],
   "source": [
    "r"
   ]
  },
  {
   "cell_type": "code",
   "execution_count": 21,
   "metadata": {},
   "outputs": [],
   "source": [
    "r[\"ID\"].insert(0,1440)"
   ]
  },
  {
   "cell_type": "code",
   "execution_count": 22,
   "metadata": {},
   "outputs": [
    {
     "data": {
      "text/plain": [
       "{'ID': [1440, 101, 102, 103, 1446], 'JOB': ['HR', 'manager', 'CA']}"
      ]
     },
     "execution_count": 22,
     "metadata": {},
     "output_type": "execute_result"
    }
   ],
   "source": [
    "r"
   ]
  },
  {
   "cell_type": "code",
   "execution_count": 25,
   "metadata": {},
   "outputs": [],
   "source": [
    "r[\"ID\"][0]=1000"
   ]
  },
  {
   "cell_type": "code",
   "execution_count": 26,
   "metadata": {},
   "outputs": [
    {
     "data": {
      "text/plain": [
       "{'ID': [1000, 101, 102, 103, 1446], 'JOB': ['HR', 'manager', 'CA']}"
      ]
     },
     "execution_count": 26,
     "metadata": {},
     "output_type": "execute_result"
    }
   ],
   "source": [
    "r"
   ]
  },
  {
   "cell_type": "code",
   "execution_count": 27,
   "metadata": {},
   "outputs": [
    {
     "data": {
      "text/plain": [
       "1446"
      ]
     },
     "execution_count": 27,
     "metadata": {},
     "output_type": "execute_result"
    }
   ],
   "source": [
    "r[\"ID\"].pop()"
   ]
  },
  {
   "cell_type": "code",
   "execution_count": 28,
   "metadata": {},
   "outputs": [
    {
     "data": {
      "text/plain": [
       "{'ID': [1000, 101, 102, 103], 'JOB': ['HR', 'manager', 'CA']}"
      ]
     },
     "execution_count": 28,
     "metadata": {},
     "output_type": "execute_result"
    }
   ],
   "source": [
    "r"
   ]
  },
  {
   "cell_type": "code",
   "execution_count": 29,
   "metadata": {},
   "outputs": [
    {
     "data": {
      "text/plain": [
       "3"
      ]
     },
     "execution_count": 29,
     "metadata": {},
     "output_type": "execute_result"
    }
   ],
   "source": [
    "round(len(r[\"ID\"])/2)+1"
   ]
  },
  {
   "cell_type": "code",
   "execution_count": 30,
   "metadata": {},
   "outputs": [
    {
     "data": {
      "text/plain": [
       "103"
      ]
     },
     "execution_count": 30,
     "metadata": {},
     "output_type": "execute_result"
    }
   ],
   "source": [
    "r[\"ID\"].pop(3)"
   ]
  },
  {
   "cell_type": "code",
   "execution_count": 31,
   "metadata": {},
   "outputs": [
    {
     "data": {
      "text/plain": [
       "{'ID': [1000, 101, 102], 'JOB': ['HR', 'manager', 'CA']}"
      ]
     },
     "execution_count": 31,
     "metadata": {},
     "output_type": "execute_result"
    }
   ],
   "source": [
    "r"
   ]
  },
  {
   "cell_type": "code",
   "execution_count": null,
   "metadata": {},
   "outputs": [],
   "source": []
  },
  {
   "cell_type": "code",
   "execution_count": null,
   "metadata": {},
   "outputs": [],
   "source": [
    "if condition1:\n",
    "    print(\"statement 1\")\n",
    "elif condition2:\n",
    "    print(\"statement 2\")\n",
    "elif condition3:\n",
    "     print(\"statement 3\")\n",
    "else:\n",
    "     print(\"last_statement\")\n"
   ]
  },
  {
   "cell_type": "code",
   "execution_count": null,
   "metadata": {},
   "outputs": [],
   "source": [
    "x=float(input(\"enter the number\"))\n",
    "if x>0:\n",
    "    print(x,\"is positive\")\n",
    "else:\n",
    "    print(x,\"is negative\")"
   ]
  },
  {
   "cell_type": "code",
   "execution_count": null,
   "metadata": {},
   "outputs": [],
   "source": [
    "x=float(input(\"enter the number\"))\n",
    "if x>0:\n",
    "    print(x,\"is positive\")\n",
    "elif x==0:\n",
    "    print(x,\"is zero\")\n",
    "else:\n",
    "    print(x,\"is negative\")"
   ]
  },
  {
   "cell_type": "code",
   "execution_count": 1,
   "metadata": {},
   "outputs": [],
   "source": [
    "x=float(input(\"enter the number\"))\n",
    "if x%2==0:\n",
    "    print(\"even\")\n",
    "else:\n",
    "    print(\"odd\")"
   ]
  },
  {
   "cell_type": "code",
   "execution_count": null,
   "metadata": {},
   "outputs": [],
   "source": [
    "x=float(input(\"enter the number\"))\n",
    "if x%2==0:\n",
    "    y=x**3\n",
    "    print(\"{} is the cube of {} cause it is even\".format(y,x))\n",
    "else:\n",
    "    y=x**2\n",
    "    print(\"{} is the square of {} cause it is odd\".format(y,x))"
   ]
  },
  {
   "cell_type": "code",
   "execution_count": null,
   "metadata": {},
   "outputs": [],
   "source": [
    "x=float(input(\"enter the number\"))\n",
    "if x>100 and x%2==0:\n",
    "    y=x**3\n",
    "    print(\"{} is the cube of {} cause it is even\".format(y,x))\n",
    "elif \n",
    "    y=x**2\n",
    "    print(\"{} is the square of {} cause it is odd\".format(y,x))"
   ]
  },
  {
   "cell_type": "code",
   "execution_count": 6,
   "metadata": {},
   "outputs": [],
   "source": [
    "y=float(input(\"enter the number\"))\n",
    "if y>100 and y%2==0:\n",
    "    z=y**2\n",
    "    print(\"{} is the square of {} cause it is even\".format(z,y))\n",
    "elif y>100 and y%2!=0:\n",
    "    z=y**3\n",
    "    print(\"{} is the cube of {} cause it is odd\".format(y,x))\n",
    "elif y<100 and y%2==0:\n",
    "    z=y**3\n",
    "    print(\"{} is the cube of {} cause it is odd\".format(y,x))\n",
    "elif y<100 and y%2!=0:\n",
    "    z=y**3\n",
    "    print(\"{} is the cube of {} cause it is odd\".format(y,x))\n",
    "else:\n",
    "    print(\"x is equal to 100\")\n",
    "\n",
    "\n"
   ]
  },
  {
   "cell_type": "code",
   "execution_count": 2,
   "metadata": {},
   "outputs": [
    {
     "name": "stdout",
     "output_type": "stream",
     "text": [
      "1.5874010519681994\n"
     ]
    }
   ],
   "source": [
    "#1.if x is more than 100 and odd calculate square \n",
    "#2.if x is more than 100 and even calculate square root\n",
    "#3.if x is less than 100 and odd calculate cube\n",
    "#4.if x is less than 100 and even calculate  cube root\n",
    "#5. else : print x is equal to 100\n",
    "x = float(input(\"enter the number\"))\n",
    "if x > 100 and x % 2 != 0:\n",
    "  print(x**2\"square of x cause it is odd and >100\")\n",
    "elif x > 100 and x % 2 == 0:\n",
    "  print(x**(1/2)\"square of x cause it is even and >100\")\n",
    "elif x < 100 and x % 2 != 0:\n",
    "  print(x**3\"cube of x cause it is odd and <100)\n",
    "elif x < 100 and x % 2 == 0:\n",
    "  print(x**(1/3)\"cube of x cause it is even and <100\")\n",
    "else:\n",
    "  print(\"x is equal to 100\")"
   ]
  },
  {
   "cell_type": "code",
   "execution_count": 11,
   "metadata": {},
   "outputs": [
    {
     "name": "stdout",
     "output_type": "stream",
     "text": [
      "x is int \n"
     ]
    }
   ],
   "source": [
    "#check the data type of x using condition statement \n",
    "x=122\n",
    "if type(x) ==float:\n",
    "    print(\"x is float\")\n",
    "elif type(x) ==int:\n",
    "    print(\"x is int \")\n",
    "elif type(x)==str:\n",
    "    print(\"x is string\")\n",
    "else:\n",
    "    print(\"x is bool\")"
   ]
  },
  {
   "cell_type": "code",
   "execution_count": 16,
   "metadata": {},
   "outputs": [
    {
     "name": "stdout",
     "output_type": "stream",
     "text": [
      "does not starts with a\n"
     ]
    }
   ],
   "source": [
    "#check if the x is start with a\n",
    "s=input(\"enter the string\")\n",
    "if s[0] == \"a\":\n",
    " print(\"string starts with a\")\n",
    "else:\n",
    " print(\"does not starts with a\")"
   ]
  },
  {
   "cell_type": "code",
   "execution_count": 18,
   "metadata": {},
   "outputs": [
    {
     "name": "stdout",
     "output_type": "stream",
     "text": [
      "does not ends with t\n"
     ]
    }
   ],
   "source": [
    "#check if the string ends with t\n",
    "s= input(\"enter the string\")\n",
    "if s[-1]==\"t\":\n",
    "    print(\"end with t\")\n",
    "else:\n",
    "    print(\"does not ends with t\")"
   ]
  },
  {
   "cell_type": "code",
   "execution_count": null,
   "metadata": {},
   "outputs": [],
   "source": [
    "#check if string starts with a and ends with a\n",
    "#check if string starts with a and ends with r\n",
    "#check if string does not start with a and ends with a"
   ]
  },
  {
   "cell_type": "code",
   "execution_count": 21,
   "metadata": {},
   "outputs": [
    {
     "name": "stdout",
     "output_type": "stream",
     "text": [
      "string starts with a and ends with a\n"
     ]
    }
   ],
   "source": [
    "s=input(\"enter the string\")\n",
    "if s[0]==\"a\" and s[-1]==\"a\":\n",
    "    print(\"string starts with a and ends with a\")\n",
    "elif s[0]==\"a\" and s[-1]==\"r\":\n",
    "    print(\"string starts with a and ends with r\")\n",
    "elif s[0]!=\"a\" and s[-1]!=\"r\":\n",
    "    print(\"string does not start with a and ends with r\")\n",
    "else:\n",
    "    print(\"there is no condition\")\n",
    "\n"
   ]
  },
  {
   "cell_type": "code",
   "execution_count": 22,
   "metadata": {},
   "outputs": [
    {
     "name": "stdout",
     "output_type": "stream",
     "text": [
      "first letter is uppercase\n"
     ]
    }
   ],
   "source": [
    "#check if ist letter is uppercase or lowercase\n",
    "s=input(\"enter the string\")\n",
    "if s[0].isupper():\n",
    "    print(\"first letter is uppercase\")\n",
    "else:\n",
    "    print(\"first letter is lowercase\")"
   ]
  },
  {
   "cell_type": "code",
   "execution_count": 23,
   "metadata": {},
   "outputs": [
    {
     "name": "stdout",
     "output_type": "stream",
     "text": [
      "length of string is more then 6\n"
     ]
    }
   ],
   "source": [
    "#check if the length of string is more then 6 or not\n",
    "s=input(\"enter the string\")\n",
    "if len(s) > 6:\n",
    "    print(\"length of string is more then 6\")\n",
    "else:\n",
    "    print(\"length of string is less then 6\")\n"
   ]
  },
  {
   "cell_type": "code",
   "execution_count": null,
   "metadata": {},
   "outputs": [],
   "source": []
  },
  {
   "cell_type": "code",
   "execution_count": null,
   "metadata": {},
   "outputs": [],
   "source": [
    "\n",
    "\n",
    "\n"
   ]
  },
  {
   "cell_type": "code",
   "execution_count": null,
   "metadata": {},
   "outputs": [],
   "source": []
  }
 ],
 "metadata": {
  "kernelspec": {
   "display_name": "Python 3",
   "language": "python",
   "name": "python3"
  },
  "language_info": {
   "codemirror_mode": {
    "name": "ipython",
    "version": 3
   },
   "file_extension": ".py",
   "mimetype": "text/x-python",
   "name": "python",
   "nbconvert_exporter": "python",
   "pygments_lexer": "ipython3",
   "version": "3.12.5"
  }
 },
 "nbformat": 4,
 "nbformat_minor": 2
}
