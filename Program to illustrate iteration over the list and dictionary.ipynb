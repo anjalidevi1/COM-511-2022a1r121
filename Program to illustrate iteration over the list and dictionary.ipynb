{
 "cells": [
  {
   "cell_type": "code",
   "execution_count": 1,
   "metadata": {},
   "outputs": [
    {
     "name": "stdout",
     "output_type": "stream",
     "text": [
      "Iterating over a List:\n",
      "List Item: 10\n",
      "List Item: 20\n",
      "List Item: 30\n",
      "List Item: 40\n",
      "List Item: 50\n",
      "\n",
      "Iterating over a Dictionary:\n",
      "Dictionary Key: Name, Value: Paras\n",
      "Dictionary Key: Age, Value: 25\n",
      "Dictionary Key: Country, Value: India\n"
     ]
    }
   ],
   "source": [
    "#write a program to illustrate iteration over the list and dictionary\n",
    "\n",
    "# Iterating over a List\n",
    "print(\"Iterating over a List:\")\n",
    "\n",
    "# Define a sample list\n",
    "sample_list = [10, 20, 30, 40, 50]\n",
    "\n",
    "# Using a for loop to iterate over the list\n",
    "for item in sample_list:\n",
    "    print(f\"List Item: {item}\")\n",
    "\n",
    "# Iterating over a Dictionary\n",
    "print(\"\\nIterating over a Dictionary:\")\n",
    "\n",
    "# Define a sample dictionary\n",
    "sample_dict = {'Name': 'Paras', 'Age': 25, 'Country': 'India'}\n",
    "\n",
    "# Using a for loop to iterate over the dictionary keys and values\n",
    "for key, value in sample_dict.items():\n",
    "    print(f\"Dictionary Key: {key}, Value: {value}\")\n"
   ]
  },
  {
   "cell_type": "code",
   "execution_count": null,
   "metadata": {},
   "outputs": [],
   "source": []
  }
 ],
 "metadata": {
  "kernelspec": {
   "display_name": "Python 3",
   "language": "python",
   "name": "python3"
  },
  "language_info": {
   "codemirror_mode": {
    "name": "ipython",
    "version": 3
   },
   "file_extension": ".py",
   "mimetype": "text/x-python",
   "name": "python",
   "nbconvert_exporter": "python",
   "pygments_lexer": "ipython3",
   "version": "3.12.5"
  }
 },
 "nbformat": 4,
 "nbformat_minor": 2
}
