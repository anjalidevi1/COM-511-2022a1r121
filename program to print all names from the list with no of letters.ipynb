{
 "cells": [
  {
   "cell_type": "code",
   "execution_count": null,
   "metadata": {},
   "outputs": [],
   "source": [
    "#print all names from the list with no of letters ex:- \"archit\":6\n",
    "l1=[\"Akansha\",\"Archit\",\"Aryan\",\"Kanka\",\"Lomash\",\"Tushar\",\"Vinit\"]\n",
    "for name in l1:\n",
    "    print(f'\"{name}\": {len(name)}')\n"
   ]
  }
 ],
 "metadata": {
  "language_info": {
   "name": "python"
  }
 },
 "nbformat": 4,
 "nbformat_minor": 2
}
