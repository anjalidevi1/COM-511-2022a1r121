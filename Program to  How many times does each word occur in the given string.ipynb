{
 "cells": [
  {
   "cell_type": "code",
   "execution_count": 1,
   "metadata": {},
   "outputs": [
    {
     "name": "stdout",
     "output_type": "stream",
     "text": [
      "{'what': 1, 'is': 2, 'sql': 1, 'and': 1, 'why': 1}\n",
      "{'what': 1, 'is': 2, 'sql': 1, 'and': 2, 'why': 1, 'it': 1, 'important': 1, 'in': 1, 'data': 1, 'science': 1}\n",
      "{'what': 1, 'is': 2, 'sql': 1, 'and': 3, 'why': 1, 'it': 1, 'important': 1, 'in': 1, 'data': 1, 'science': 1, 'explain': 1, 'the': 1, 'differnce': 1, 'between': 1, 'database': 1}\n"
     ]
    }
   ],
   "source": [
    "st1=\"\"\"what is sql and why is it important in data science and explain the differnce between database and a table\"\"\"\n",
    "d={}\n",
    "for i in st1.split():\n",
    "    if i not in d:\n",
    "        d[i]=1\n",
    "    else:\n",
    "        d[i]+=1\n",
    "        print(d)"
   ]
  },
  {
   "cell_type": "code",
   "execution_count": null,
   "metadata": {},
   "outputs": [],
   "source": []
  }
 ],
 "metadata": {
  "kernelspec": {
   "display_name": "Python 3",
   "language": "python",
   "name": "python3"
  },
  "language_info": {
   "codemirror_mode": {
    "name": "ipython",
    "version": 3
   },
   "file_extension": ".py",
   "mimetype": "text/x-python",
   "name": "python",
   "nbconvert_exporter": "python",
   "pygments_lexer": "ipython3",
   "version": "3.12.5"
  }
 },
 "nbformat": 4,
 "nbformat_minor": 2
}
