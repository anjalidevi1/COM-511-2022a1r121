{
 "cells": [
  {
   "cell_type": "code",
   "execution_count": 1,
   "metadata": {},
   "outputs": [
    {
     "name": "stdout",
     "output_type": "stream",
     "text": [
      "The number of alphabets in string s are: 20\n",
      "ome to pyth\n",
      "It is not an alphanumeric string.\n"
     ]
    }
   ],
   "source": [
    "#count the number of alphabets in the string\n",
    "#Extract characters in the given range from the string\n",
    "#check if the string is alphanumeric or not\n",
    "s=\"welcome to python world\"\n",
    "#count the number of alphabets in the string\n",
    "count=0\n",
    "for i in s:\n",
    "  if i.isalpha():\n",
    "    count+=1\n",
    "print(\"The number of alphabets in string s are:\",count)\n",
    "\n",
    "#Extract characters in the given range from the string\n",
    "print(s[4:15])\n",
    "\n",
    "#check if the string is alphanumeric or not\n",
    "if s.isalnum():\n",
    "  print(\"It is an alphanumeric string.\")\n",
    "else:\n",
    "  print(\"It is not an alphanumeric string.\")"
   ]
  },
  {
   "cell_type": "code",
   "execution_count": null,
   "metadata": {},
   "outputs": [],
   "source": []
  }
 ],
 "metadata": {
  "kernelspec": {
   "display_name": "Python 3",
   "language": "python",
   "name": "python3"
  },
  "language_info": {
   "codemirror_mode": {
    "name": "ipython",
    "version": 3
   },
   "file_extension": ".py",
   "mimetype": "text/x-python",
   "name": "python",
   "nbconvert_exporter": "python",
   "pygments_lexer": "ipython3",
   "version": "3.12.5"
  }
 },
 "nbformat": 4,
 "nbformat_minor": 2
}
