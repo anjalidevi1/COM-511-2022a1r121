{
 "cells": [
  {
   "cell_type": "markdown",
   "metadata": {},
   "source": [
    "LIsT AND LOOP"
   ]
  },
  {
   "cell_type": "code",
   "execution_count": null,
   "metadata": {},
   "outputs": [],
   "source": [
    "l=[1,2,3,4,5,6]\n",
    "#for varibale in L:\n"
   ]
  },
  {
   "cell_type": "code",
   "execution_count": 1,
   "metadata": {},
   "outputs": [
    {
     "name": "stdout",
     "output_type": "stream",
     "text": [
      "1\n",
      "2\n",
      "3\n",
      "4\n",
      "5\n",
      "6\n"
     ]
    }
   ],
   "source": [
    "l=[1,2,3,4,5,6]\n",
    "for i in l:\n",
    "    print(i)"
   ]
  },
  {
   "cell_type": "code",
   "execution_count": 2,
   "metadata": {},
   "outputs": [
    {
     "data": {
      "text/plain": [
       "6"
      ]
     },
     "execution_count": 2,
     "metadata": {},
     "output_type": "execute_result"
    }
   ],
   "source": [
    "i"
   ]
  },
  {
   "cell_type": "code",
   "execution_count": 5,
   "metadata": {},
   "outputs": [
    {
     "name": "stdout",
     "output_type": "stream",
     "text": [
      "a\n",
      "b\n",
      "c\n",
      "d\n",
      "e\n",
      "True\n"
     ]
    }
   ],
   "source": [
    "g=[\"a\",\"b\",\"c\",\"d\",\"e\",True]\n",
    "for f in g:\n",
    "    print(f)"
   ]
  },
  {
   "cell_type": "code",
   "execution_count": 7,
   "metadata": {},
   "outputs": [
    {
     "name": "stdout",
     "output_type": "stream",
     "text": [
      "7\n",
      "8\n",
      "9\n",
      "6\n",
      "6\n"
     ]
    }
   ],
   "source": [
    "#extract those element which is more than 5\n",
    "w=[1,4,7,8,9,6,3,2,5,4,6,3,2,5]\n",
    "for j in w:\n",
    "    if j>5:\n",
    "        print(j)"
   ]
  },
  {
   "cell_type": "code",
   "execution_count": 8,
   "metadata": {},
   "outputs": [
    {
     "name": "stdout",
     "output_type": "stream",
     "text": [
      "False\n",
      "False\n",
      "True\n",
      "True\n",
      "True\n",
      "True\n",
      "False\n",
      "False\n",
      "False\n",
      "False\n",
      "True\n",
      "False\n",
      "False\n",
      "False\n"
     ]
    }
   ],
   "source": [
    "#extract those element which is more than 5\n",
    "w=[1,4,7,8,9,6,3,2,5,4,6,3,2,5]\n",
    "for i in w:\n",
    "    print(i>5)"
   ]
  },
  {
   "cell_type": "code",
   "execution_count": 9,
   "metadata": {},
   "outputs": [
    {
     "name": "stdout",
     "output_type": "stream",
     "text": [
      "7\n",
      "8\n",
      "9\n",
      "6\n",
      "6\n"
     ]
    }
   ],
   "source": [
    "#extract those element which is more than 5\n",
    "w=[1,4,7,8,9,6,3,2,5,4,6,3,2,5]\n",
    "for i in w:\n",
    "    if i>5:\n",
    "        print(i)"
   ]
  },
  {
   "cell_type": "code",
   "execution_count": 10,
   "metadata": {},
   "outputs": [
    {
     "name": "stdout",
     "output_type": "stream",
     "text": [
      "4\n",
      "8\n",
      "6\n",
      "2\n",
      "4\n",
      "6\n",
      "2\n"
     ]
    }
   ],
   "source": [
    "#extract even elements from the list\n",
    "w=[1,4,7,8,9,6,3,2,5,4,6,3,2,5]\n",
    "for j in w :\n",
    "    if j%2==0:\n",
    "        print(j)"
   ]
  },
  {
   "cell_type": "code",
   "execution_count": 1,
   "metadata": {},
   "outputs": [
    {
     "name": "stdout",
     "output_type": "stream",
     "text": [
      "4\n",
      "6\n",
      "5\n",
      "4\n",
      "6\n",
      "5\n"
     ]
    }
   ],
   "source": [
    "#extract elements between 3 and 7\n",
    "w=[1,4,7,8,9,6,3,2,5,4,6,3,2,5]\n",
    "for j in w :\n",
    "    if j>3 and j<7:\n",
    "        print(j)"
   ]
  },
  {
   "cell_type": "code",
   "execution_count": 3,
   "metadata": {},
   "outputs": [
    {
     "name": "stdout",
     "output_type": "stream",
     "text": [
      "16\n",
      "64\n",
      "36\n",
      "4\n",
      "16\n",
      "36\n",
      "4\n"
     ]
    }
   ],
   "source": [
    "#calculate square of given elements\n",
    "w=[1,4,7,8,9,6,3,2,5,4,6,3,2,5]\n",
    "for j in w:\n",
    "    if j%2==0:\n",
    "        print(j**2)\n",
    "        \n"
   ]
  },
  {
   "cell_type": "code",
   "execution_count": 4,
   "metadata": {},
   "outputs": [
    {
     "name": "stdout",
     "output_type": "stream",
     "text": [
      "abhiniza\n",
      "aastha\n"
     ]
    }
   ],
   "source": [
    "#print elements starts with a\n",
    "name = [\"rohan\",\"abhiniza\",\"robin\",\"karan\",\"Aman\",\"pankaj\",\"aastha\"]\n",
    "for i in name:\n",
    "    if i[0]==\"a\":\n",
    "        print(i)\n"
   ]
  },
  {
   "cell_type": "code",
   "execution_count": 6,
   "metadata": {},
   "outputs": [
    {
     "name": "stdout",
     "output_type": "stream",
     "text": [
      "abhiniza\n",
      "aastha\n"
     ]
    }
   ],
   "source": [
    "#another method\n",
    "name = [\"rohan\",\"abhiniza\",\"robin\",\"karan\",\"Aman\",\"pankaj\",\"aastha\"]\n",
    "for i in name:\n",
    "    if i.startswith(\"a\"):\n",
    "        print(i)"
   ]
  },
  {
   "cell_type": "code",
   "execution_count": 8,
   "metadata": {},
   "outputs": [
    {
     "name": "stdout",
     "output_type": "stream",
     "text": [
      "abhiniza\n",
      "aastha\n"
     ]
    }
   ],
   "source": [
    "#names start with a and end with a\n",
    "name = [\"rohan\",\"abhiniza\",\"robin\",\"karan\",\"Aman\",\"pankaj\",\"aastha\"]\n",
    "for i in name:\n",
    "    if i.startswith(\"a\") and i.endswith(\"a\"):\n",
    "        print(i)"
   ]
  },
  {
   "cell_type": "code",
   "execution_count": 9,
   "metadata": {},
   "outputs": [
    {
     "name": "stdout",
     "output_type": "stream",
     "text": [
      "abhiniza\n",
      "aastha\n"
     ]
    }
   ],
   "source": [
    "#names start with a and end with a\n",
    "name = [\"rohan\",\"abhiniza\",\"robin\",\"karan\",\"Aman\",\"pankaj\",\"aastha\"]\n",
    "for i in name:\n",
    "    if i[0]==\"a\" and i[-1]==\"a\":\n",
    "        print(i)"
   ]
  },
  {
   "cell_type": "code",
   "execution_count": 10,
   "metadata": {},
   "outputs": [
    {
     "name": "stdout",
     "output_type": "stream",
     "text": [
      "roha\n",
      "abhi\n",
      "robi\n",
      "kara\n",
      "Aman\n",
      "pank\n",
      "aast\n"
     ]
    }
   ],
   "source": [
    "#print 4 lettes of all names\n",
    "name = [\"rohan\",\"abhiniza\",\"robin\",\"karan\",\"Aman\",\"pankaj\",\"aastha\"]\n",
    "for i in name:\n",
    "    print(i[0:4])"
   ]
  },
  {
   "cell_type": "code",
   "execution_count": 14,
   "metadata": {},
   "outputs": [
    {
     "name": "stdout",
     "output_type": "stream",
     "text": [
      "2000\n",
      "2004\n",
      "2008\n"
     ]
    }
   ],
   "source": [
    "#Leap years\n",
    "year=[2000,2001,2002,2003,2004,2005,2006,2007,2008,2009,2010]\n",
    "for k in year:\n",
    "    if k%4==0:\n",
    "     \n",
    "     print(k)"
   ]
  },
  {
   "cell_type": "code",
   "execution_count": 15,
   "metadata": {},
   "outputs": [
    {
     "data": {
      "text/plain": [
       "8"
      ]
     },
     "execution_count": 15,
     "metadata": {},
     "output_type": "execute_result"
    }
   ],
   "source": [
    "#print the second highest element\n",
    "s=[4,7,8,5,2,3,6,9,6,5,6,3,2]\n",
    "s.sort()\n",
    "s[-2]\n"
   ]
  },
  {
   "cell_type": "code",
   "execution_count": 16,
   "metadata": {},
   "outputs": [
    {
     "data": {
      "text/plain": [
       "9"
      ]
     },
     "execution_count": 16,
     "metadata": {},
     "output_type": "execute_result"
    }
   ],
   "source": [
    "#print the highest element in a list\n",
    "s=[4,7,8,5,2,3,6,9,6,5,6,3,2]\n",
    "s.sort()\n",
    "s[-1]"
   ]
  },
  {
   "cell_type": "code",
   "execution_count": null,
   "metadata": {},
   "outputs": [],
   "source": []
  }
 ],
 "metadata": {
  "kernelspec": {
   "display_name": "Python 3",
   "language": "python",
   "name": "python3"
  },
  "language_info": {
   "codemirror_mode": {
    "name": "ipython",
    "version": 3
   },
   "file_extension": ".py",
   "mimetype": "text/x-python",
   "name": "python",
   "nbconvert_exporter": "python",
   "pygments_lexer": "ipython3",
   "version": "3.12.5"
  }
 },
 "nbformat": 4,
 "nbformat_minor": 2
}
